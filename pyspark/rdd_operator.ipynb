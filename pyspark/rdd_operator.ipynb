{
 "cells": [
  {
   "cell_type": "code",
   "execution_count": null,
   "id": "f30c2766",
   "metadata": {
    "is_executing": true
   },
   "outputs": [],
   "source": [
    "from pyspark import SparkConf, SparkContext\n",
    "master = 'local[*]' # 指定local模式\n",
    "appName = 'rdd'\n",
    "conf = SparkConf().setAppName(appName).setMaster(master)\n",
    "sc = SparkContext(conf=conf)"
   ]
  },
  {
   "cell_type": "code",
   "execution_count": null,
   "outputs": [],
   "source": [],
   "metadata": {
    "collapsed": false
   },
   "id": "90db65502c133341"
  },
  {
   "cell_type": "markdown",
   "id": "8fcdcb5f",
   "metadata": {},
   "source": [
    "验证特性"
   ]
  },
  {
   "cell_type": "code",
   "execution_count": 3,
   "id": "0915b493",
   "metadata": {},
   "outputs": [
    {
     "data": {
      "text/plain": [
       "[[0, 1, 2], [3, 4, 5], [6, 7, 8]]"
      ]
     },
     "execution_count": 3,
     "metadata": {},
     "output_type": "execute_result"
    }
   ],
   "source": [
    "# 查看分区排布\n",
    "sc.parallelize(range(9), 3).glom().collect()"
   ]
  },
  {
   "cell_type": "code",
   "execution_count": 4,
   "id": "9d895408",
   "metadata": {},
   "outputs": [
    {
     "name": "stdout",
     "output_type": "stream",
     "text": [
      "[0, 10, 20, 30, 40, 50, 60, 70, 80]\n",
      "[0, 10, 20, 30, 40, 50, 60, 70, 80]\n"
     ]
    }
   ],
   "source": [
    "# 计算方法会作用到每个分片 split\n",
    "print(sc.parallelize(range(9)).map(lambda x: x*10).collect())\n",
    "print(sc.parallelize(range(9), 3).map(lambda x: x*10).collect())"
   ]
  },
  {
   "cell_type": "code",
   "execution_count": 5,
   "id": "9e7a60bb",
   "metadata": {},
   "outputs": [
    {
     "name": "stdout",
     "output_type": "stream",
     "text": [
      "[('hadoop', 2), ('', 2), ('zzj', 2), ('spark', 1)]\n"
     ]
    }
   ],
   "source": [
    "# rdd对象的迭代依赖关系\n",
    "rdd1 = sc.textFile('words.txt')\n",
    "rdd2 = rdd1.flatMap(lambda x: x.split(' '))\n",
    "rdd3 = rdd2.map(lambda x: (x, 1))\n",
    "rdd4 = rdd3.reduceByKey(lambda a, b: a + b)\n",
    "print(rdd4.collect())"
   ]
  },
  {
   "cell_type": "markdown",
   "id": "02526a83",
   "metadata": {},
   "source": [
    "创建rdd"
   ]
  },
  {
   "cell_type": "code",
   "execution_count": 12,
   "id": "007c6334",
   "metadata": {},
   "outputs": [
    {
     "name": "stdout",
     "output_type": "stream",
     "text": [
      "[0, 1, 2, 3, 4, 5, 6, 7, 8]\n"
     ]
    }
   ],
   "source": [
    "rdd = sc.parallelize(range(9)) # 本地集合变为分布式数据集合\n",
    "# local[*]默认的分区数根据CPU核数的多线程来定，每个线程创建管理一个分区； lscpu CPU核数为16\n",
    "rdd.getNumPartitions()  # 查看分区数\n",
    "print(rdd.collect()) # 分布式数据集合变为本地集合"
   ]
  },
  {
   "cell_type": "code",
   "execution_count": 13,
   "id": "a167d3db",
   "metadata": {},
   "outputs": [
    {
     "data": {
      "text/plain": [
       "3"
      ]
     },
     "execution_count": 13,
     "metadata": {},
     "output_type": "execute_result"
    }
   ],
   "source": [
    "sc.parallelize(range(9), 3).getNumPartitions()"
   ]
  },
  {
   "cell_type": "code",
   "execution_count": 15,
   "id": "93b94b87",
   "metadata": {},
   "outputs": [
    {
     "name": "stdout",
     "output_type": "stream",
     "text": [
      "2\n",
      "4\n",
      "29\n"
     ]
    }
   ],
   "source": [
    "# 读取文件创建  默认分区数与CPU核数无关， 分区数参数太大了无效，spark会自己判断\n",
    "rdd = sc.textFile(\"words.txt\")\n",
    "print(rdd.getNumPartitions()) \n",
    "print(sc.textFile(\"words.txt\", 3).getNumPartitions())\n",
    "print(sc.textFile(\"words.txt\", 100).getNumPartitions())"
   ]
  },
  {
   "cell_type": "code",
   "execution_count": 18,
   "id": "e74b934d",
   "metadata": {},
   "outputs": [
    {
     "data": {
      "text/plain": [
       "([('file:/home/ubuntu/pyspark/测试数据/tiny_files/4.txt',\n",
       "   'hello spark\\r\\nhello hadoop\\r\\nhello flink'),\n",
       "  ('file:/home/ubuntu/pyspark/测试数据/tiny_files/2.txt',\n",
       "   'hello spark\\r\\nhello hadoop\\r\\nhello flink'),\n",
       "  ('file:/home/ubuntu/pyspark/测试数据/tiny_files/1.txt',\n",
       "   'hello spark\\r\\nhello hadoop\\r\\nhello flink'),\n",
       "  ('file:/home/ubuntu/pyspark/测试数据/tiny_files/3.txt',\n",
       "   'hello spark\\r\\nhello hadoop\\r\\nhello flink'),\n",
       "  ('file:/home/ubuntu/pyspark/测试数据/tiny_files/5.txt',\n",
       "   'hello spark\\r\\nhello hadoop\\r\\nhello flink')],\n",
       " 2)"
      ]
     },
     "execution_count": 18,
     "metadata": {},
     "output_type": "execute_result"
    }
   ],
   "source": [
    "rdd = sc.wholeTextFiles(\"./测试数据/tiny_files\")\n",
    "rdd.collect(), rdd.getNumPartitions()"
   ]
  },
  {
   "cell_type": "code",
   "execution_count": 17,
   "id": "a3792cd8",
   "metadata": {},
   "outputs": [
    {
     "data": {
      "text/plain": [
       "['hello spark\\r\\nhello hadoop\\r\\nhello flink',\n",
       " 'hello spark\\r\\nhello hadoop\\r\\nhello flink',\n",
       " 'hello spark\\r\\nhello hadoop\\r\\nhello flink',\n",
       " 'hello spark\\r\\nhello hadoop\\r\\nhello flink',\n",
       " 'hello spark\\r\\nhello hadoop\\r\\nhello flink']"
      ]
     },
     "execution_count": 17,
     "metadata": {},
     "output_type": "execute_result"
    }
   ],
   "source": [
    "rdd.map(lambda x: x[1]).collect()"
   ]
  },
  {
   "cell_type": "markdown",
   "id": "446f5c4d",
   "metadata": {},
   "source": [
    "# "
   ]
  },
  {
   "cell_type": "markdown",
   "id": "f89b72ec",
   "metadata": {},
   "source": [
    "转换算子"
   ]
  },
  {
   "cell_type": "code",
   "execution_count": 19,
   "id": "ba360817",
   "metadata": {},
   "outputs": [
    {
     "name": "stdout",
     "output_type": "stream",
     "text": [
      "[['fnafnak', 'nfalkfamalf', 'afa'], ['fankfsf', 'fa', 'faaf'], ['wquiqw', 'fsa']]\n",
      "['fnafnak', 'nfalkfamalf', 'afa', 'fankfsf', 'fa', 'faaf', 'wquiqw', 'fsa']\n"
     ]
    }
   ],
   "source": [
    "rdd = sc.parallelize([\"fnafnak nfalkfamalf afa\", 'fankfsf fa faaf', 'wquiqw fsa'])\n",
    "print(rdd.map(lambda x: x.split()).collect())\n",
    "print(rdd.flatMap(lambda x: x.split()).collect())"
   ]
  },
  {
   "cell_type": "code",
   "execution_count": 20,
   "id": "3f63bcc3",
   "metadata": {},
   "outputs": [
    {
     "data": {
      "text/plain": [
       "[('b', 5), ('a', 3)]"
      ]
     },
     "execution_count": 20,
     "metadata": {},
     "output_type": "execute_result"
    }
   ],
   "source": [
    "rdd = sc.parallelize([('a', 1), ('a', 1), ('b', 2), ('b', 3), ('a', 1)])\n",
    "rdd.reduceByKey(lambda a, b: a+b).collect()"
   ]
  },
  {
   "cell_type": "code",
   "execution_count": 21,
   "id": "c75e67ce",
   "metadata": {},
   "outputs": [
    {
     "name": "stdout",
     "output_type": "stream",
     "text": [
      "[('a', 10), ('a', 10), ('b', 20), ('b', 30), ('a', 10)]\n",
      "[('a', 10), ('a', 10), ('b', 20), ('b', 30), ('a', 10)]\n"
     ]
    }
   ],
   "source": [
    "print(rdd.mapValues(lambda x: x*10).collect())\n",
    "print(rdd.map(lambda x: (x[0], x[1]*10)).collect())"
   ]
  },
  {
   "cell_type": "code",
   "execution_count": 34,
   "id": "0a131357",
   "metadata": {},
   "outputs": [
    {
     "name": "stdout",
     "output_type": "stream",
     "text": [
      "[('b', <pyspark.resultiterable.ResultIterable object at 0x7f260b7ac760>), ('a', <pyspark.resultiterable.ResultIterable object at 0x7f260b7029a0>)]\n",
      "[('b', [('b', 2), ('b', 3)]), ('a', [('a', 1), ('a', 1), ('a', 1)])]\n",
      "[('b', [2, 3]), ('a', [1, 1, 1])]\n"
     ]
    }
   ],
   "source": [
    "print(rdd.groupBy(lambda x: x[0]).collect())\n",
    "print(rdd.groupBy(lambda x: x[0]).map(lambda x: (x[0], list(x[1]))).collect())\n",
    "print(rdd.groupByKey().map(lambda x: (x[0], list(x[1]))).collect())"
   ]
  },
  {
   "cell_type": "code",
   "execution_count": 25,
   "id": "e0fafab6",
   "metadata": {},
   "outputs": [
    {
     "data": {
      "text/plain": [
       "[('b', 2)]"
      ]
     },
     "execution_count": 25,
     "metadata": {},
     "output_type": "execute_result"
    }
   ],
   "source": [
    "rdd.filter(lambda x: x[1]%2==0).collect()"
   ]
  },
  {
   "cell_type": "code",
   "execution_count": 26,
   "id": "3428f6df",
   "metadata": {},
   "outputs": [
    {
     "name": "stdout",
     "output_type": "stream",
     "text": [
      "[1, 2]\n",
      "[('b', 2), ('a', 1), ('b', 3)]\n"
     ]
    }
   ],
   "source": [
    "print(sc.parallelize([1, 1, 1, 2, 2]).distinct().collect())\n",
    "print(rdd.distinct().collect())"
   ]
  },
  {
   "cell_type": "code",
   "execution_count": 27,
   "id": "72343b17",
   "metadata": {},
   "outputs": [
    {
     "data": {
      "text/plain": [
       "[('a', 1), ('a', 1), ('b', 2), ('b', 3), ('a', 1), 1, 2]"
      ]
     },
     "execution_count": 27,
     "metadata": {},
     "output_type": "execute_result"
    }
   ],
   "source": [
    "rdd.union(sc.parallelize([1,2])).collect()"
   ]
  },
  {
   "cell_type": "code",
   "execution_count": 32,
   "id": "accad902",
   "metadata": {},
   "outputs": [
    {
     "name": "stdout",
     "output_type": "stream",
     "text": [
      "[(1001, ('zzj', 'dep1')), (1002, ('ymm', 'dep2'))]\n",
      "[(1001, ('zzj', 'dep1')), (1002, ('ymm', 'dep2')), (1003, ('xxx', None))]\n"
     ]
    }
   ],
   "source": [
    "rdd_person = sc.parallelize([(1001, \"zzj\"), (1002, 'ymm'), (1003, 'xxx')])\n",
    "rdd_depart = sc.parallelize([(1001, 'dep1'), (1002, \"dep2\")])\n",
    "print(rdd_person.join(rdd_depart).collect())\n",
    "print(rdd_person.leftOuterJoin(rdd_depart).collect())"
   ]
  },
  {
   "cell_type": "code",
   "execution_count": 33,
   "id": "84603489",
   "metadata": {},
   "outputs": [
    {
     "name": "stdout",
     "output_type": "stream",
     "text": [
      "[[0, 1, 2, 3], [4, 5, 6, 7, 8]]\n",
      "[0, 1, 2, 3, 4, 5, 6, 7, 8]\n"
     ]
    }
   ],
   "source": [
    "rdd2 = sc.parallelize(range(9), 2).glom() # 嵌套\n",
    "print(rdd2.collect()) \n",
    "print(rdd2.flatMap(lambda x: x).collect()) # 解嵌套"
   ]
  },
  {
   "cell_type": "code",
   "execution_count": 37,
   "id": "56958b92",
   "metadata": {},
   "outputs": [
    {
     "name": "stdout",
     "output_type": "stream",
     "text": [
      "[('a', 1), ('a', 1), ('b', 2), ('b', 3), ('a', 1)]\n"
     ]
    },
    {
     "data": {
      "text/plain": [
       "[('a', 1), ('a', 1), ('a', 1), ('b', 2), ('b', 3)]"
      ]
     },
     "execution_count": 37,
     "metadata": {},
     "output_type": "execute_result"
    }
   ],
   "source": [
    "print(rdd.collect())\n",
    "rdd.sortBy(lambda x: x[1], ascending=True, numPartitions=10).collect()"
   ]
  },
  {
   "cell_type": "code",
   "execution_count": 38,
   "id": "e140292c",
   "metadata": {},
   "outputs": [
    {
     "data": {
      "text/plain": [
       "[('a', 1), ('A', 2), ('b', 1)]"
      ]
     },
     "execution_count": 38,
     "metadata": {},
     "output_type": "execute_result"
    }
   ],
   "source": [
    "sc.parallelize([('a', 1), ('A', 2), ('b', 1)]).sortByKey(True, 3, lambda x: x.lower()).collect()"
   ]
  },
  {
   "cell_type": "code",
   "execution_count": null,
   "id": "9342f02d",
   "metadata": {},
   "outputs": [],
   "source": []
  },
  {
   "cell_type": "markdown",
   "id": "3abf4e9c",
   "metadata": {},
   "source": [
    "案例：返回在北京购买了哪些类别的商品 "
   ]
  },
  {
   "cell_type": "code",
   "execution_count": 4,
   "id": "4b23937a",
   "metadata": {},
   "outputs": [
    {
     "name": "stderr",
     "output_type": "stream",
     "text": [
      "                                                                                \r"
     ]
    },
    {
     "data": {
      "text/plain": [
       "['{\"id\":1,\"timestamp\":\"2019-05-08T01:03.00Z\",\"category\":\"平板电脑\",\"areaName\":\"北京\",\"money\":\"1450\"}',\n",
       " '{\"id\":2,\"timestamp\":\"2019-05-08T01:01.00Z\",\"category\":\"手机\",\"areaName\":\"北京\",\"money\":\"1450\"}',\n",
       " '{\"id\":3,\"timestamp\":\"2019-05-08T01:03.00Z\",\"category\":\"手机\",\"areaName\":\"北京\",\"money\":\"8412\"}',\n",
       " '{\"id\":4,\"timestamp\":\"2019-05-08T05:01.00Z\",\"category\":\"电脑\",\"areaName\":\"上海\",\"money\":\"1513\"}',\n",
       " '{\"id\":5,\"timestamp\":\"2019-05-08T01:03.00Z\",\"category\":\"家电\",\"areaName\":\"北京\",\"money\":\"1550\"}',\n",
       " '{\"id\":6,\"timestamp\":\"2019-05-08T01:01.00Z\",\"category\":\"电脑\",\"areaName\":\"杭州\",\"money\":\"1550\"}',\n",
       " '{\"id\":7,\"timestamp\":\"2019-05-08T01:03.00Z\",\"category\":\"电脑\",\"areaName\":\"北京\",\"money\":\"5611\"}',\n",
       " '{\"id\":8,\"timestamp\":\"2019-05-08T03:01.00Z\",\"category\":\"家电\",\"areaName\":\"北京\",\"money\":\"4410\"}',\n",
       " '{\"id\":9,\"timestamp\":\"2019-05-08T01:03.00Z\",\"category\":\"家具\",\"areaName\":\"郑州\",\"money\":\"1120\"}',\n",
       " '{\"id\":10,\"timestamp\":\"2019-05-08T01:01.00Z\",\"category\":\"家具\",\"areaName\":\"北京\",\"money\":\"6661\"}',\n",
       " '{\"id\":11,\"timestamp\":\"2019-05-08T05:03.00Z\",\"category\":\"家具\",\"areaName\":\"杭州\",\"money\":\"1230\"}',\n",
       " '{\"id\":12,\"timestamp\":\"2019-05-08T01:01.00Z\",\"category\":\"书籍\",\"areaName\":\"北京\",\"money\":\"5550\"}',\n",
       " '{\"id\":13,\"timestamp\":\"2019-05-08T01:03.00Z\",\"category\":\"书籍\",\"areaName\":\"北京\",\"money\":\"5550\"}',\n",
       " '{\"id\":14,\"timestamp\":\"2019-05-08T01:01.00Z\",\"category\":\"电脑\",\"areaName\":\"北京\",\"money\":\"1261\"}',\n",
       " '{\"id\":15,\"timestamp\":\"2019-05-08T03:03.00Z\",\"category\":\"电脑\",\"areaName\":\"杭州\",\"money\":\"6660\"}',\n",
       " '{\"id\":16,\"timestamp\":\"2019-05-08T01:01.00Z\",\"category\":\"电脑\",\"areaName\":\"天津\",\"money\":\"6660\"}',\n",
       " '{\"id\":17,\"timestamp\":\"2019-05-08T01:03.00Z\",\"category\":\"书籍\",\"areaName\":\"北京\",\"money\":\"9000\"}',\n",
       " '{\"id\":18,\"timestamp\":\"2019-05-08T05:01.00Z\",\"category\":\"书籍\",\"areaName\":\"北京\",\"money\":\"1230\"}',\n",
       " '{\"id\":19,\"timestamp\":\"2019-05-08T01:03.00Z\",\"category\":\"电脑\",\"areaName\":\"杭州\",\"money\":\"5551\"}',\n",
       " '{\"id\":20,\"timestamp\":\"2019-05-08T01:01.00Z\",\"category\":\"电脑\",\"areaName\":\"北京\",\"money\":\"2450\"}',\n",
       " '{\"id\":21,\"timestamp\":\"2019-05-08T01:03.00Z\",\"category\":\"食品\",\"areaName\":\"北京\",\"money\":\"5520\"}',\n",
       " '{\"id\":22,\"timestamp\":\"2019-05-08T01:01.00Z\",\"category\":\"食品\",\"areaName\":\"北京\",\"money\":\"6650\"}',\n",
       " '{\"id\":23,\"timestamp\":\"2019-05-08T01:03.00Z\",\"category\":\"服饰\",\"areaName\":\"杭州\",\"money\":\"1240\"}',\n",
       " '{\"id\":24,\"timestamp\":\"2019-05-08T01:01.00Z\",\"category\":\"食品\",\"areaName\":\"天津\",\"money\":\"5600\"}',\n",
       " '{\"id\":25,\"timestamp\":\"2019-05-08T01:03.00Z\",\"category\":\"食品\",\"areaName\":\"北京\",\"money\":\"7801\"}',\n",
       " '{\"id\":26,\"timestamp\":\"2019-05-08T01:01.00Z\",\"category\":\"服饰\",\"areaName\":\"北京\",\"money\":\"9000\"}',\n",
       " '{\"id\":27,\"timestamp\":\"2019-05-08T01:03.00Z\",\"category\":\"服饰\",\"areaName\":\"杭州\",\"money\":\"5600\"}',\n",
       " '{\"id\":28,\"timestamp\":\"2019-05-08T01:01.00Z\",\"category\":\"食品\",\"areaName\":\"北京\",\"money\":\"8000\"}',\n",
       " '{\"id\":29,\"timestamp\":\"2019-05-08T02:03.00Z\",\"category\":\"服饰\",\"areaName\":\"杭州\",\"money\":\"7000\"}']"
      ]
     },
     "execution_count": 4,
     "metadata": {},
     "output_type": "execute_result"
    }
   ],
   "source": [
    "file_rdd = sc.textFile(\"测试数据/order.text\")\n",
    "json_rdd = file_rdd.flatMap(lambda x: x.split(\"|\"))\n",
    "json_rdd.collect()"
   ]
  },
  {
   "cell_type": "code",
   "execution_count": 6,
   "id": "0daa6dd7",
   "metadata": {},
   "outputs": [
    {
     "data": {
      "text/plain": [
       "[{'id': 1,\n",
       "  'timestamp': '2019-05-08T01:03.00Z',\n",
       "  'category': '平板电脑',\n",
       "  'areaName': '北京',\n",
       "  'money': '1450'},\n",
       " {'id': 2,\n",
       "  'timestamp': '2019-05-08T01:01.00Z',\n",
       "  'category': '手机',\n",
       "  'areaName': '北京',\n",
       "  'money': '1450'},\n",
       " {'id': 3,\n",
       "  'timestamp': '2019-05-08T01:03.00Z',\n",
       "  'category': '手机',\n",
       "  'areaName': '北京',\n",
       "  'money': '8412'},\n",
       " {'id': 4,\n",
       "  'timestamp': '2019-05-08T05:01.00Z',\n",
       "  'category': '电脑',\n",
       "  'areaName': '上海',\n",
       "  'money': '1513'},\n",
       " {'id': 5,\n",
       "  'timestamp': '2019-05-08T01:03.00Z',\n",
       "  'category': '家电',\n",
       "  'areaName': '北京',\n",
       "  'money': '1550'},\n",
       " {'id': 6,\n",
       "  'timestamp': '2019-05-08T01:01.00Z',\n",
       "  'category': '电脑',\n",
       "  'areaName': '杭州',\n",
       "  'money': '1550'},\n",
       " {'id': 7,\n",
       "  'timestamp': '2019-05-08T01:03.00Z',\n",
       "  'category': '电脑',\n",
       "  'areaName': '北京',\n",
       "  'money': '5611'},\n",
       " {'id': 8,\n",
       "  'timestamp': '2019-05-08T03:01.00Z',\n",
       "  'category': '家电',\n",
       "  'areaName': '北京',\n",
       "  'money': '4410'},\n",
       " {'id': 9,\n",
       "  'timestamp': '2019-05-08T01:03.00Z',\n",
       "  'category': '家具',\n",
       "  'areaName': '郑州',\n",
       "  'money': '1120'},\n",
       " {'id': 10,\n",
       "  'timestamp': '2019-05-08T01:01.00Z',\n",
       "  'category': '家具',\n",
       "  'areaName': '北京',\n",
       "  'money': '6661'},\n",
       " {'id': 11,\n",
       "  'timestamp': '2019-05-08T05:03.00Z',\n",
       "  'category': '家具',\n",
       "  'areaName': '杭州',\n",
       "  'money': '1230'},\n",
       " {'id': 12,\n",
       "  'timestamp': '2019-05-08T01:01.00Z',\n",
       "  'category': '书籍',\n",
       "  'areaName': '北京',\n",
       "  'money': '5550'},\n",
       " {'id': 13,\n",
       "  'timestamp': '2019-05-08T01:03.00Z',\n",
       "  'category': '书籍',\n",
       "  'areaName': '北京',\n",
       "  'money': '5550'},\n",
       " {'id': 14,\n",
       "  'timestamp': '2019-05-08T01:01.00Z',\n",
       "  'category': '电脑',\n",
       "  'areaName': '北京',\n",
       "  'money': '1261'},\n",
       " {'id': 15,\n",
       "  'timestamp': '2019-05-08T03:03.00Z',\n",
       "  'category': '电脑',\n",
       "  'areaName': '杭州',\n",
       "  'money': '6660'},\n",
       " {'id': 16,\n",
       "  'timestamp': '2019-05-08T01:01.00Z',\n",
       "  'category': '电脑',\n",
       "  'areaName': '天津',\n",
       "  'money': '6660'},\n",
       " {'id': 17,\n",
       "  'timestamp': '2019-05-08T01:03.00Z',\n",
       "  'category': '书籍',\n",
       "  'areaName': '北京',\n",
       "  'money': '9000'},\n",
       " {'id': 18,\n",
       "  'timestamp': '2019-05-08T05:01.00Z',\n",
       "  'category': '书籍',\n",
       "  'areaName': '北京',\n",
       "  'money': '1230'},\n",
       " {'id': 19,\n",
       "  'timestamp': '2019-05-08T01:03.00Z',\n",
       "  'category': '电脑',\n",
       "  'areaName': '杭州',\n",
       "  'money': '5551'},\n",
       " {'id': 20,\n",
       "  'timestamp': '2019-05-08T01:01.00Z',\n",
       "  'category': '电脑',\n",
       "  'areaName': '北京',\n",
       "  'money': '2450'},\n",
       " {'id': 21,\n",
       "  'timestamp': '2019-05-08T01:03.00Z',\n",
       "  'category': '食品',\n",
       "  'areaName': '北京',\n",
       "  'money': '5520'},\n",
       " {'id': 22,\n",
       "  'timestamp': '2019-05-08T01:01.00Z',\n",
       "  'category': '食品',\n",
       "  'areaName': '北京',\n",
       "  'money': '6650'},\n",
       " {'id': 23,\n",
       "  'timestamp': '2019-05-08T01:03.00Z',\n",
       "  'category': '服饰',\n",
       "  'areaName': '杭州',\n",
       "  'money': '1240'},\n",
       " {'id': 24,\n",
       "  'timestamp': '2019-05-08T01:01.00Z',\n",
       "  'category': '食品',\n",
       "  'areaName': '天津',\n",
       "  'money': '5600'},\n",
       " {'id': 25,\n",
       "  'timestamp': '2019-05-08T01:03.00Z',\n",
       "  'category': '食品',\n",
       "  'areaName': '北京',\n",
       "  'money': '7801'},\n",
       " {'id': 26,\n",
       "  'timestamp': '2019-05-08T01:01.00Z',\n",
       "  'category': '服饰',\n",
       "  'areaName': '北京',\n",
       "  'money': '9000'},\n",
       " {'id': 27,\n",
       "  'timestamp': '2019-05-08T01:03.00Z',\n",
       "  'category': '服饰',\n",
       "  'areaName': '杭州',\n",
       "  'money': '5600'},\n",
       " {'id': 28,\n",
       "  'timestamp': '2019-05-08T01:01.00Z',\n",
       "  'category': '食品',\n",
       "  'areaName': '北京',\n",
       "  'money': '8000'},\n",
       " {'id': 29,\n",
       "  'timestamp': '2019-05-08T02:03.00Z',\n",
       "  'category': '服饰',\n",
       "  'areaName': '杭州',\n",
       "  'money': '7000'}]"
      ]
     },
     "execution_count": 6,
     "metadata": {},
     "output_type": "execute_result"
    }
   ],
   "source": [
    "import json\n",
    "dict_rdd = json_rdd.map(lambda x: json.loads(x))\n",
    "dict_rdd.collect()"
   ]
  },
  {
   "cell_type": "code",
   "execution_count": 7,
   "id": "91595afb",
   "metadata": {},
   "outputs": [
    {
     "data": {
      "text/plain": [
       "[{'id': 1,\n",
       "  'timestamp': '2019-05-08T01:03.00Z',\n",
       "  'category': '平板电脑',\n",
       "  'areaName': '北京',\n",
       "  'money': '1450'},\n",
       " {'id': 2,\n",
       "  'timestamp': '2019-05-08T01:01.00Z',\n",
       "  'category': '手机',\n",
       "  'areaName': '北京',\n",
       "  'money': '1450'},\n",
       " {'id': 3,\n",
       "  'timestamp': '2019-05-08T01:03.00Z',\n",
       "  'category': '手机',\n",
       "  'areaName': '北京',\n",
       "  'money': '8412'},\n",
       " {'id': 5,\n",
       "  'timestamp': '2019-05-08T01:03.00Z',\n",
       "  'category': '家电',\n",
       "  'areaName': '北京',\n",
       "  'money': '1550'},\n",
       " {'id': 7,\n",
       "  'timestamp': '2019-05-08T01:03.00Z',\n",
       "  'category': '电脑',\n",
       "  'areaName': '北京',\n",
       "  'money': '5611'},\n",
       " {'id': 8,\n",
       "  'timestamp': '2019-05-08T03:01.00Z',\n",
       "  'category': '家电',\n",
       "  'areaName': '北京',\n",
       "  'money': '4410'},\n",
       " {'id': 10,\n",
       "  'timestamp': '2019-05-08T01:01.00Z',\n",
       "  'category': '家具',\n",
       "  'areaName': '北京',\n",
       "  'money': '6661'},\n",
       " {'id': 12,\n",
       "  'timestamp': '2019-05-08T01:01.00Z',\n",
       "  'category': '书籍',\n",
       "  'areaName': '北京',\n",
       "  'money': '5550'},\n",
       " {'id': 13,\n",
       "  'timestamp': '2019-05-08T01:03.00Z',\n",
       "  'category': '书籍',\n",
       "  'areaName': '北京',\n",
       "  'money': '5550'},\n",
       " {'id': 14,\n",
       "  'timestamp': '2019-05-08T01:01.00Z',\n",
       "  'category': '电脑',\n",
       "  'areaName': '北京',\n",
       "  'money': '1261'},\n",
       " {'id': 17,\n",
       "  'timestamp': '2019-05-08T01:03.00Z',\n",
       "  'category': '书籍',\n",
       "  'areaName': '北京',\n",
       "  'money': '9000'},\n",
       " {'id': 18,\n",
       "  'timestamp': '2019-05-08T05:01.00Z',\n",
       "  'category': '书籍',\n",
       "  'areaName': '北京',\n",
       "  'money': '1230'},\n",
       " {'id': 20,\n",
       "  'timestamp': '2019-05-08T01:01.00Z',\n",
       "  'category': '电脑',\n",
       "  'areaName': '北京',\n",
       "  'money': '2450'},\n",
       " {'id': 21,\n",
       "  'timestamp': '2019-05-08T01:03.00Z',\n",
       "  'category': '食品',\n",
       "  'areaName': '北京',\n",
       "  'money': '5520'},\n",
       " {'id': 22,\n",
       "  'timestamp': '2019-05-08T01:01.00Z',\n",
       "  'category': '食品',\n",
       "  'areaName': '北京',\n",
       "  'money': '6650'},\n",
       " {'id': 25,\n",
       "  'timestamp': '2019-05-08T01:03.00Z',\n",
       "  'category': '食品',\n",
       "  'areaName': '北京',\n",
       "  'money': '7801'},\n",
       " {'id': 26,\n",
       "  'timestamp': '2019-05-08T01:01.00Z',\n",
       "  'category': '服饰',\n",
       "  'areaName': '北京',\n",
       "  'money': '9000'},\n",
       " {'id': 28,\n",
       "  'timestamp': '2019-05-08T01:01.00Z',\n",
       "  'category': '食品',\n",
       "  'areaName': '北京',\n",
       "  'money': '8000'}]"
      ]
     },
     "execution_count": 7,
     "metadata": {},
     "output_type": "execute_result"
    }
   ],
   "source": [
    "beijing_rdd = dict_rdd.filter(lambda x: x['areaName']==\"北京\")\n",
    "beijing_rdd.collect()"
   ]
  },
  {
   "cell_type": "code",
   "execution_count": 9,
   "id": "66b8b6d3",
   "metadata": {},
   "outputs": [
    {
     "name": "stderr",
     "output_type": "stream",
     "text": [
      "                                                                                \r"
     ]
    },
    {
     "data": {
      "text/plain": [
       "['北京_平板电脑', '北京_家具', '北京_书籍', '北京_食品', '北京_服饰', '北京_手机', '北京_家电', '北京_电脑']"
      ]
     },
     "execution_count": 9,
     "metadata": {},
     "output_type": "execute_result"
    }
   ],
   "source": [
    "cat_rdd = beijing_rdd.map(lambda x: f'北京_{x[\"category\"]}').distinct()\n",
    "cat_rdd.collect()"
   ]
  },
  {
   "cell_type": "markdown",
   "id": "cfb950cc",
   "metadata": {},
   "source": [
    "动作算子"
   ]
  },
  {
   "cell_type": "code",
   "execution_count": 11,
   "id": "372586ca",
   "metadata": {},
   "outputs": [
    {
     "data": {
      "text/plain": [
       "(defaultdict(int, {'hello': 3, 'spark': 1, 'hadoop': 1, 'flink': 1}),\n",
       " [('hadoop', 1), ('hello', 3), ('spark', 1), ('flink', 1)])"
      ]
     },
     "execution_count": 11,
     "metadata": {},
     "output_type": "execute_result"
    }
   ],
   "source": [
    "rdd_file = sc.textFile(\"测试数据/words.txt\")\n",
    "rdd_words = rdd_file.flatMap(lambda x: x.split()).map(lambda x: (x, 1))\n",
    "rdd_words.countByKey(), rdd_words.reduceByKey(lambda a, b: a+b).collect()"
   ]
  },
  {
   "cell_type": "code",
   "execution_count": 12,
   "id": "92056cc1",
   "metadata": {},
   "outputs": [
    {
     "data": {
      "text/plain": [
       "36"
      ]
     },
     "execution_count": 12,
     "metadata": {},
     "output_type": "execute_result"
    }
   ],
   "source": [
    "sc.parallelize(range(9)).reduce(lambda a,b: a+b)"
   ]
  },
  {
   "cell_type": "code",
   "execution_count": 21,
   "id": "a3691768",
   "metadata": {},
   "outputs": [
    {
     "name": "stdout",
     "output_type": "stream",
     "text": [
      "[[1, 9], [2, 8]]\n"
     ]
    },
    {
     "data": {
      "text/plain": [
       "50"
      ]
     },
     "execution_count": 21,
     "metadata": {},
     "output_type": "execute_result"
    }
   ],
   "source": [
    "rdd_ = sc.parallelize([1, 9, 2, 8], 2)\n",
    "print(rdd_.glom().collect())\n",
    "rdd_.fold(10, lambda a, b: a+b)"
   ]
  },
  {
   "cell_type": "code",
   "execution_count": 27,
   "id": "19877886",
   "metadata": {},
   "outputs": [
    {
     "data": {
      "text/plain": [
       "(0, [0, 1, 2, 3, 4], [7, 6, 5, 4, 3])"
      ]
     },
     "execution_count": 27,
     "metadata": {},
     "output_type": "execute_result"
    }
   ],
   "source": [
    "sc.parallelize(range(8)).first(), sc.parallelize(range(8)).take(5), sc.parallelize(range(8)).top(5)"
   ]
  },
  {
   "cell_type": "code",
   "execution_count": 30,
   "id": "2619fbbd",
   "metadata": {},
   "outputs": [
    {
     "data": {
      "text/plain": [
       "(8, 8, 2)"
      ]
     },
     "execution_count": 30,
     "metadata": {},
     "output_type": "execute_result"
    }
   ],
   "source": [
    "sc.parallelize(range(8)).count(), sc.parallelize(range(8), 2).count(), sc.parallelize([(1, 2), (1, 2)]).count()"
   ]
  },
  {
   "cell_type": "code",
   "execution_count": 31,
   "id": "de316c1a",
   "metadata": {},
   "outputs": [
    {
     "data": {
      "text/plain": [
       "([0, 2, 0, 5, 4, 0, 2, 7, 0, 3, 3, 1, 0, 4, 6, 4, 2, 3, 6, 2, 0, 4],\n",
       " [1, 2, 5, 7, 4, 3, 0, 6])"
      ]
     },
     "execution_count": 31,
     "metadata": {},
     "output_type": "execute_result"
    }
   ],
   "source": [
    "sc.parallelize(range(8)).takeSample(True, 22), sc.parallelize(range(8)).takeSample(False, 22)"
   ]
  },
  {
   "cell_type": "code",
   "execution_count": 32,
   "id": "cc80ac0a",
   "metadata": {},
   "outputs": [
    {
     "data": {
      "text/plain": [
       "([3, 6], [3, 6])"
      ]
     },
     "execution_count": 32,
     "metadata": {},
     "output_type": "execute_result"
    }
   ],
   "source": [
    "sc.parallelize(range(8)).takeSample(False, 2, 1), sc.parallelize(range(8)).takeSample(False, 2, 1)"
   ]
  },
  {
   "cell_type": "code",
   "execution_count": 33,
   "id": "6ecde4af",
   "metadata": {},
   "outputs": [
    {
     "data": {
      "text/plain": [
       "[42, 4, 2]"
      ]
     },
     "execution_count": 33,
     "metadata": {},
     "output_type": "execute_result"
    }
   ],
   "source": [
    "sc.parallelize([1,2,4,1,42,2]).takeOrdered(3, lambda x: -x)"
   ]
  },
  {
   "cell_type": "code",
   "execution_count": 36,
   "id": "88a5e7dc",
   "metadata": {},
   "outputs": [
    {
     "name": "stderr",
     "output_type": "stream",
     "text": [
      "0\n",
      "40\n",
      "20\n",
      "60\n",
      "30\n",
      "50\n",
      "70\n",
      "10\n"
     ]
    },
    {
     "data": {
      "text/plain": [
       "(None, [0, 1, 2, 3, 4, 5, 6, 7], None)"
      ]
     },
     "execution_count": 36,
     "metadata": {},
     "output_type": "execute_result"
    }
   ],
   "source": [
    "rdd_num = sc.parallelize(range(8))\n",
    "rdd_num.foreach(lambda x: x*10), rdd_num.collect(), rdd_num.foreach(lambda x: print(x*10))"
   ]
  },
  {
   "cell_type": "code",
   "execution_count": 40,
   "id": "35294255",
   "metadata": {},
   "outputs": [
    {
     "data": {
      "text/plain": [
       "(16, None)"
      ]
     },
     "execution_count": 40,
     "metadata": {},
     "output_type": "execute_result"
    }
   ],
   "source": [
    "rdd_num.getNumPartitions(), rdd_num.saveAsTextFile(\"测试数据/save\")"
   ]
  },
  {
   "cell_type": "code",
   "execution_count": 41,
   "id": "831374d4",
   "metadata": {},
   "outputs": [],
   "source": [
    "sc.parallelize(range(8), 3).saveAsTextFile(\"测试数据/save2\")"
   ]
  },
  {
   "cell_type": "markdown",
   "id": "4fe2dc20",
   "metadata": {},
   "source": [
    "分区转换算子"
   ]
  },
  {
   "cell_type": "code",
   "execution_count": 42,
   "id": "7f038195",
   "metadata": {},
   "outputs": [
    {
     "data": {
      "text/plain": [
       "[0, 10, 20, 30, 40, 50, 60, 70]"
      ]
     },
     "execution_count": 42,
     "metadata": {},
     "output_type": "execute_result"
    }
   ],
   "source": [
    "rdd_parts = sc.parallelize(range(8), 3)\n",
    "def process(part):\n",
    "    return [i*10 for i in part]\n",
    "     \n",
    "rdd_parts.mapPartitions(process).collect()"
   ]
  },
  {
   "cell_type": "code",
   "execution_count": 46,
   "id": "cfa34d3f",
   "metadata": {},
   "outputs": [
    {
     "name": "stderr",
     "output_type": "stream",
     "text": [
      "[50, 60, 70]\n",
      "[20, 30, 40]\n",
      "[0, 10]\n"
     ]
    },
    {
     "data": {
      "text/plain": [
       "([0, 1, 2, 3, 4, 5, 6, 7], None)"
      ]
     },
     "execution_count": 46,
     "metadata": {},
     "output_type": "execute_result"
    }
   ],
   "source": [
    "def process2(part):\n",
    "    res = [i*10 for i in part]\n",
    "    print(res)\n",
    "    return res\n",
    "     \n",
    "rdd_parts.collect(), rdd_parts.foreachPartition(process2)"
   ]
  },
  {
   "cell_type": "code",
   "execution_count": 51,
   "id": "f7f0fe80",
   "metadata": {},
   "outputs": [
    {
     "data": {
      "text/plain": [
       "([(1, 2), (2, 3), (3, 2), (1, 3), (2, 3), (34, 3)],\n",
       " [[(3, 2)], [(1, 2), (1, 3), (34, 3)], [(2, 3), (2, 3)]])"
      ]
     },
     "execution_count": 51,
     "metadata": {},
     "output_type": "execute_result"
    }
   ],
   "source": [
    "rdd_kv = sc.parallelize([(1, 2), (2, 3), (3, 2), (1, 3), (2, 3), (34,3)])\n",
    "def custom_parts(K):\n",
    "    return K%3\n",
    "rdd_kv.collect(), rdd_kv.partitionBy(3, custom_parts).glom().collect()"
   ]
  },
  {
   "cell_type": "code",
   "execution_count": 53,
   "id": "62d8e181",
   "metadata": {},
   "outputs": [
    {
     "data": {
      "text/plain": [
       "(16, 3)"
      ]
     },
     "execution_count": 53,
     "metadata": {},
     "output_type": "execute_result"
    }
   ],
   "source": [
    "rdd_num.getNumPartitions(), rdd_num.repartition(3).getNumPartitions()"
   ]
  },
  {
   "cell_type": "code",
   "execution_count": 55,
   "id": "1a7ce757",
   "metadata": {},
   "outputs": [
    {
     "data": {
      "text/plain": [
       "(1, 16, 17)"
      ]
     },
     "execution_count": 55,
     "metadata": {},
     "output_type": "execute_result"
    }
   ],
   "source": [
    "rdd_num.coalesce(1).getNumPartitions(), rdd_num.coalesce(17).getNumPartitions(), rdd_num.coalesce(17, True).getNumPartitions()"
   ]
  },
  {
   "cell_type": "code",
   "execution_count": 1,
   "id": "edc22d70",
   "metadata": {},
   "outputs": [
    {
     "name": "stderr",
     "output_type": "stream",
     "text": [
      "23/10/10 12:58:55 WARN Utils: Your hostname, 10-24-17-107 resolves to a loopback address: 127.0.1.1; using 10.24.17.107 instead (on interface eth0)\n",
      "23/10/10 12:58:55 WARN Utils: Set SPARK_LOCAL_IP if you need to bind to another address\n",
      "Setting default log level to \"WARN\".\n",
      "To adjust logging level use sc.setLogLevel(newLevel). For SparkR, use setLogLevel(newLevel).\n",
      "23/10/10 12:58:55 WARN NativeCodeLoader: Unable to load native-hadoop library for your platform... using builtin-java classes where applicable\n",
      "[Stage 0:>                                                          (0 + 2) / 2]\r"
     ]
    },
    {
     "name": "stdout",
     "output_type": "stream",
     "text": [
      "['04:00:22\\t7044693659960919\\t数据仓库\\t10\\t8\\thttp://www.itcast.cn', '20:00:07\\t0014362172758659586\\thadoop\\t64\\t21\\thttp://www.itcast.cn', '14:00:09\\t19701804785360144\\t传智专修学院\\t1\\t1\\thttp://www.itcast.cn']\n"
     ]
    },
    {
     "name": "stderr",
     "output_type": "stream",
     "text": [
      "                                                                                \r"
     ]
    }
   ],
   "source": [
    "from pyspark import SparkConf, SparkContext, StorageLevel\n",
    "import jieba \n",
    "\n",
    "appname = 'search_words'\n",
    "master = 'local[*]'\n",
    "conf = SparkConf().setAppName(appname).setMaster(master)\n",
    "sc = SparkContext(conf=conf)\n",
    "\n",
    "rdd_file = sc.textFile('测试数据/SogouQ.txt')\n",
    "print(rdd_file.takeSample(False, 3))\n"
   ]
  }
 ],
 "metadata": {
  "kernelspec": {
   "display_name": "Python 3 (ipykernel)",
   "language": "python",
   "name": "python3"
  },
  "language_info": {
   "codemirror_mode": {
    "name": "ipython",
    "version": 3
   },
   "file_extension": ".py",
   "mimetype": "text/x-python",
   "name": "python",
   "nbconvert_exporter": "python",
   "pygments_lexer": "ipython3",
   "version": "3.8.0"
  }
 },
 "nbformat": 4,
 "nbformat_minor": 5
}
